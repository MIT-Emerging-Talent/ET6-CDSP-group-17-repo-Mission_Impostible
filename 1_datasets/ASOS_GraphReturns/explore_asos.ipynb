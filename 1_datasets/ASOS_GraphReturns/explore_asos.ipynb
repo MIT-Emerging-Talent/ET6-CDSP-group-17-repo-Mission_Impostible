{
  "cells": [
    {
      "cell_type": "code",
      "execution_count": null,
      "metadata": {},
      "outputs": [],
      "source": [
        "import pickle\n",
        "import pandas as pd\n",
        "import os\n",
        "\n",
        "# Define the path to the data files\n",
        "data_path = 'C:/Users/ADMIN/ET6-CDSP-group-17-repo/1_datasets/MIT Data Science/CSV Files/'\n",
        "\n",
        "# List of your file names (assuming they are in the specified data_path)\n",
        "file_names = [\n",
        "    'customer_nodes_testing.csv',\n",
        "    'customer_nodes_training.csv',\n",
        "    'event_table_testing.csv',\n",
        "    'event_table_training.csv',\n",
        "    'product_nodes_testing.csv',\n",
        "    'product_nodes_training.csv'\n",
        "]\n",
        "\n",
        "# Dictionary to store loaded dataframes\n",
        "loaded_data = {}\n",
        "\n",
        "# Load each CSV file\n",
        "for name in file_names:\n",
        "    file_path = os.path.join(data_path, name)\n",
        "    try:\n",
        "        loaded_data[name] = pd.read_csv(file_path)\n",
        "        print(f\"Successfully loaded {name}\")\n",
        "    except FileNotFoundError:\n",
        "        print(f\"Error: {file_path} not found. Please ensure the path is correct.\")\n",
        "    except Exception as e:\n",
        "        print(f\"Error loading {name}: {e}\")\n",
        "\n",
        "# Display basic information for each loaded DataFrame\n",
        "for name, df in loaded_data.items():\n",
        "    print(f\"\n--- {name} ---\")\n",
        "    print(\"Shape:\", df.shape)\n",
        "    print(\"Columns:\", df.columns.tolist())\n",
        "    print(\"Data Types:\n\", df.info())\n",
        "    print(\"Missing Values:\n\", df.isnull().sum())\n",
        "    print(\"First 5 rows:\n\", df.head())\n"
      ]
    }
  ],
  "metadata": {
    "kernelspec": {
      "display_name": "Python 3",
      "name": "python3"
    },
    "language_info": {
      "name": "python"
    }
  },
  "nbformat": 4,
  "nbformat_minor": 0
}
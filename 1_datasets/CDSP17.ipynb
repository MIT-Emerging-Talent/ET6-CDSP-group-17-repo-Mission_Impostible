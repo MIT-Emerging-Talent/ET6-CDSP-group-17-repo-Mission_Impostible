{
  "nbformat": 4,
  "nbformat_minor": 0,
  "metadata": {
    "colab": {
      "provenance": []
    },
    "kernelspec": {
      "name": "python3",
      "display_name": "Python 3"
    },
    "language_info": {
      "name": "python"
    }
  },
  "cells": [
    {
      "cell_type": "code",
      "execution_count": 2,
      "metadata": {
        "colab": {
          "base_uri": "https://localhost:8080/",
          "height": 246
        },
        "id": "Y-cVu4LtyJKK",
        "outputId": "515359af-1c0e-4f2b-c16f-2b657b3ff900"
      },
      "outputs": [
        {
          "output_type": "display_data",
          "data": {
            "text/plain": [
              "<IPython.core.display.HTML object>"
            ],
            "text/html": [
              "\n",
              "     <input type=\"file\" id=\"files-70ed7c02-4f81-4073-90a2-bc8aaa3416ab\" name=\"files[]\" multiple disabled\n",
              "        style=\"border:none\" />\n",
              "     <output id=\"result-70ed7c02-4f81-4073-90a2-bc8aaa3416ab\">\n",
              "      Upload widget is only available when the cell has been executed in the\n",
              "      current browser session. Please rerun this cell to enable.\n",
              "      </output>\n",
              "      <script>// Copyright 2017 Google LLC\n",
              "//\n",
              "// Licensed under the Apache License, Version 2.0 (the \"License\");\n",
              "// you may not use this file except in compliance with the License.\n",
              "// You may obtain a copy of the License at\n",
              "//\n",
              "//      http://www.apache.org/licenses/LICENSE-2.0\n",
              "//\n",
              "// Unless required by applicable law or agreed to in writing, software\n",
              "// distributed under the License is distributed on an \"AS IS\" BASIS,\n",
              "// WITHOUT WARRANTIES OR CONDITIONS OF ANY KIND, either express or implied.\n",
              "// See the License for the specific language governing permissions and\n",
              "// limitations under the License.\n",
              "\n",
              "/**\n",
              " * @fileoverview Helpers for google.colab Python module.\n",
              " */\n",
              "(function(scope) {\n",
              "function span(text, styleAttributes = {}) {\n",
              "  const element = document.createElement('span');\n",
              "  element.textContent = text;\n",
              "  for (const key of Object.keys(styleAttributes)) {\n",
              "    element.style[key] = styleAttributes[key];\n",
              "  }\n",
              "  return element;\n",
              "}\n",
              "\n",
              "// Max number of bytes which will be uploaded at a time.\n",
              "const MAX_PAYLOAD_SIZE = 100 * 1024;\n",
              "\n",
              "function _uploadFiles(inputId, outputId) {\n",
              "  const steps = uploadFilesStep(inputId, outputId);\n",
              "  const outputElement = document.getElementById(outputId);\n",
              "  // Cache steps on the outputElement to make it available for the next call\n",
              "  // to uploadFilesContinue from Python.\n",
              "  outputElement.steps = steps;\n",
              "\n",
              "  return _uploadFilesContinue(outputId);\n",
              "}\n",
              "\n",
              "// This is roughly an async generator (not supported in the browser yet),\n",
              "// where there are multiple asynchronous steps and the Python side is going\n",
              "// to poll for completion of each step.\n",
              "// This uses a Promise to block the python side on completion of each step,\n",
              "// then passes the result of the previous step as the input to the next step.\n",
              "function _uploadFilesContinue(outputId) {\n",
              "  const outputElement = document.getElementById(outputId);\n",
              "  const steps = outputElement.steps;\n",
              "\n",
              "  const next = steps.next(outputElement.lastPromiseValue);\n",
              "  return Promise.resolve(next.value.promise).then((value) => {\n",
              "    // Cache the last promise value to make it available to the next\n",
              "    // step of the generator.\n",
              "    outputElement.lastPromiseValue = value;\n",
              "    return next.value.response;\n",
              "  });\n",
              "}\n",
              "\n",
              "/**\n",
              " * Generator function which is called between each async step of the upload\n",
              " * process.\n",
              " * @param {string} inputId Element ID of the input file picker element.\n",
              " * @param {string} outputId Element ID of the output display.\n",
              " * @return {!Iterable<!Object>} Iterable of next steps.\n",
              " */\n",
              "function* uploadFilesStep(inputId, outputId) {\n",
              "  const inputElement = document.getElementById(inputId);\n",
              "  inputElement.disabled = false;\n",
              "\n",
              "  const outputElement = document.getElementById(outputId);\n",
              "  outputElement.innerHTML = '';\n",
              "\n",
              "  const pickedPromise = new Promise((resolve) => {\n",
              "    inputElement.addEventListener('change', (e) => {\n",
              "      resolve(e.target.files);\n",
              "    });\n",
              "  });\n",
              "\n",
              "  const cancel = document.createElement('button');\n",
              "  inputElement.parentElement.appendChild(cancel);\n",
              "  cancel.textContent = 'Cancel upload';\n",
              "  const cancelPromise = new Promise((resolve) => {\n",
              "    cancel.onclick = () => {\n",
              "      resolve(null);\n",
              "    };\n",
              "  });\n",
              "\n",
              "  // Wait for the user to pick the files.\n",
              "  const files = yield {\n",
              "    promise: Promise.race([pickedPromise, cancelPromise]),\n",
              "    response: {\n",
              "      action: 'starting',\n",
              "    }\n",
              "  };\n",
              "\n",
              "  cancel.remove();\n",
              "\n",
              "  // Disable the input element since further picks are not allowed.\n",
              "  inputElement.disabled = true;\n",
              "\n",
              "  if (!files) {\n",
              "    return {\n",
              "      response: {\n",
              "        action: 'complete',\n",
              "      }\n",
              "    };\n",
              "  }\n",
              "\n",
              "  for (const file of files) {\n",
              "    const li = document.createElement('li');\n",
              "    li.append(span(file.name, {fontWeight: 'bold'}));\n",
              "    li.append(span(\n",
              "        `(${file.type || 'n/a'}) - ${file.size} bytes, ` +\n",
              "        `last modified: ${\n",
              "            file.lastModifiedDate ? file.lastModifiedDate.toLocaleDateString() :\n",
              "                                    'n/a'} - `));\n",
              "    const percent = span('0% done');\n",
              "    li.appendChild(percent);\n",
              "\n",
              "    outputElement.appendChild(li);\n",
              "\n",
              "    const fileDataPromise = new Promise((resolve) => {\n",
              "      const reader = new FileReader();\n",
              "      reader.onload = (e) => {\n",
              "        resolve(e.target.result);\n",
              "      };\n",
              "      reader.readAsArrayBuffer(file);\n",
              "    });\n",
              "    // Wait for the data to be ready.\n",
              "    let fileData = yield {\n",
              "      promise: fileDataPromise,\n",
              "      response: {\n",
              "        action: 'continue',\n",
              "      }\n",
              "    };\n",
              "\n",
              "    // Use a chunked sending to avoid message size limits. See b/62115660.\n",
              "    let position = 0;\n",
              "    do {\n",
              "      const length = Math.min(fileData.byteLength - position, MAX_PAYLOAD_SIZE);\n",
              "      const chunk = new Uint8Array(fileData, position, length);\n",
              "      position += length;\n",
              "\n",
              "      const base64 = btoa(String.fromCharCode.apply(null, chunk));\n",
              "      yield {\n",
              "        response: {\n",
              "          action: 'append',\n",
              "          file: file.name,\n",
              "          data: base64,\n",
              "        },\n",
              "      };\n",
              "\n",
              "      let percentDone = fileData.byteLength === 0 ?\n",
              "          100 :\n",
              "          Math.round((position / fileData.byteLength) * 100);\n",
              "      percent.textContent = `${percentDone}% done`;\n",
              "\n",
              "    } while (position < fileData.byteLength);\n",
              "  }\n",
              "\n",
              "  // All done.\n",
              "  yield {\n",
              "    response: {\n",
              "      action: 'complete',\n",
              "    }\n",
              "  };\n",
              "}\n",
              "\n",
              "scope.google = scope.google || {};\n",
              "scope.google.colab = scope.google.colab || {};\n",
              "scope.google.colab._files = {\n",
              "  _uploadFiles,\n",
              "  _uploadFilesContinue,\n",
              "};\n",
              "})(self);\n",
              "</script> "
            ]
          },
          "metadata": {}
        },
        {
          "output_type": "stream",
          "name": "stdout",
          "text": [
            "Saving customer_nodes_testing.p to customer_nodes_testing.p\n",
            "Saving customer_nodes_training.p to customer_nodes_training.p\n",
            "Saving event_table_testing.p to event_table_testing.p\n",
            "Saving event_table_training.p to event_table_training.p\n",
            "Saving product_nodes_testing.p to product_nodes_testing.p\n",
            "Saving product_nodes_training.p to product_nodes_training.p\n"
          ]
        }
      ],
      "source": [
        "from google.colab import files\n",
        "\n",
        "uploaded = files.upload()\n",
        "\n"
      ]
    },
    {
      "cell_type": "markdown",
      "source": [
        "# New Section"
      ],
      "metadata": {
        "id": "rX8fo7Ss0blA"
      }
    },
    {
      "cell_type": "code",
      "source": [
        "!pip install numpy==1.26.4 --quiet\n",
        "import os\n",
        "os.kill(os.getpid(), 9)  # This restarts the Colab runtime"
      ],
      "metadata": {
        "id": "gYguL5BXZNSB"
      },
      "execution_count": null,
      "outputs": []
    },
    {
      "cell_type": "code",
      "source": [
        "import pickle\n",
        "\n",
        "# List of your file names\n",
        "file_names = [\n",
        "    \"customer_nodes_testing.p\",\n",
        "    \"customer_nodes_training.p\",\n",
        "    \"event_table_testing.p\",\n",
        "    \"event_table_training.p\",\n",
        "    \"product_nodes_testing.p\",\n",
        "    \"product_nodes_training.p\"\n",
        "]\n",
        "\n",
        "# Dictionary to store loaded data\n",
        "loaded_data = {}\n",
        "\n",
        "# Load each file\n",
        "for name in file_names:\n",
        "    with open(name, \"rb\") as f:\n",
        "        loaded_data[name] = pickle.load(f)\n",
        "\n",
        "# Check what was loaded\n",
        "for name, content in loaded_data.items():\n",
        "    print(f\"\\n{name} - Type: {type(content)}\")\n",
        "    if hasattr(content, 'head'):\n",
        "        print(content.head())  # If it's a DataFrame\n",
        "    else:\n",
        "        print(str(content)[:500])  # Preview first 500 characters"
      ],
      "metadata": {
        "colab": {
          "base_uri": "https://localhost:8080/"
        },
        "id": "KDdcqKmYaHb7",
        "outputId": "3aca2423-20bf-48df-e867-09c6e547df92"
      },
      "execution_count": 2,
      "outputs": [
        {
          "output_type": "stream",
          "name": "stdout",
          "text": [
            "\n",
            "customer_nodes_testing.p - Type: <class 'pandas.core.frame.DataFrame'>\n",
            "   hash(customerId)  yearOfBirth  isMale shippingCountry  premier  \\\n",
            "1       -1542001058         2004       1       Country_I        0   \n",
            "2         828606281         2001       0       Country_G        0   \n",
            "3         854915836         2002       0       Country_G        0   \n",
            "4        1055535741         2002       0       Country_B        0   \n",
            "5        -935211225         1987       0       Country_G        0   \n",
            "\n",
            "   salesPerCustomer  returnsPerCustomer  customerReturnRate  \\\n",
            "1                 3                   2            0.666667   \n",
            "2                17                   6            0.352941   \n",
            "3                 7                   1            0.142857   \n",
            "4                 2                   2            1.000000   \n",
            "5                19                  10            0.526316   \n",
            "\n",
            "   customerId_level_return_code_A  customerId_level_return_code_B  ...  \\\n",
            "1                        0.000000                             0.0  ...   \n",
            "2                        0.166667                             0.0  ...   \n",
            "3                        0.000000                             0.0  ...   \n",
            "4                        0.000000                             0.0  ...   \n",
            "5                        0.100000                             0.0  ...   \n",
            "\n",
            "   customerId_level_return_code_L  Country_A  Country_B  Country_C  Country_D  \\\n",
            "1                             0.0          0          0          0          0   \n",
            "2                             0.0          0          0          0          0   \n",
            "3                             0.0          0          0          0          0   \n",
            "4                             0.0          0          1          0          0   \n",
            "5                             0.0          0          0          0          0   \n",
            "\n",
            "   Country_E  Country_F  Country_G  Country_H  Country_I  \n",
            "1          0          0          0          0          1  \n",
            "2          0          0          1          0          0  \n",
            "3          0          0          1          0          0  \n",
            "4          0          0          0          0          0  \n",
            "5          0          0          1          0          0  \n",
            "\n",
            "[5 rows x 30 columns]\n",
            "\n",
            "customer_nodes_training.p - Type: <class 'pandas.core.frame.DataFrame'>\n",
            "   hash(customerId)  yearOfBirth  isMale shippingCountry  premier  \\\n",
            "1        1901128802         1992       0       Country_G        0   \n",
            "2       -1347052608         2004       0       Country_E        0   \n",
            "3        1968224587         1975       1       Country_C        0   \n",
            "4         101496816         1995       0       Country_G        0   \n",
            "5       -1490187487         2002       0       Country_E        0   \n",
            "\n",
            "   salesPerCustomer  returnsPerCustomer  customerReturnRate  \\\n",
            "1                 4                   1            0.250000   \n",
            "2                 7                   3            0.428571   \n",
            "3                 9                   1            0.111111   \n",
            "4                28                  22            0.785714   \n",
            "5                12                  10            0.833333   \n",
            "\n",
            "   customerId_level_return_code_A  customerId_level_return_code_B  ...  \\\n",
            "1                             0.0                             0.0  ...   \n",
            "2                             0.0                             0.0  ...   \n",
            "3                             0.0                             0.0  ...   \n",
            "4                             0.0                             0.0  ...   \n",
            "5                             0.0                             0.0  ...   \n",
            "\n",
            "   customerId_level_return_code_L  Country_A  Country_B  Country_C  Country_D  \\\n",
            "1                             0.0          0          0          0          0   \n",
            "2                             0.0          0          0          0          0   \n",
            "3                             0.0          0          0          1          0   \n",
            "4                             0.0          0          0          0          0   \n",
            "5                             0.0          0          0          0          0   \n",
            "\n",
            "   Country_E  Country_F  Country_G  Country_H  Country_I  \n",
            "1          0          0          1          0          0  \n",
            "2          1          0          0          0          0  \n",
            "3          0          0          0          0          0  \n",
            "4          0          0          1          0          0  \n",
            "5          1          0          0          0          0  \n",
            "\n",
            "[5 rows x 30 columns]\n",
            "\n",
            "event_table_testing.p - Type: <class 'pandas.core.frame.DataFrame'>\n",
            "       hash(variantID)  hash(customerId)  isReturned\n",
            "1  5586971476872708669        1918202079           0\n",
            "2  6275834747690769376        -413273676           1\n",
            "3  6275834747690769376         293617544           0\n",
            "4 -3359741722721144174        1807818554           0\n",
            "5 -3359741722721144174       -2128523026           1\n",
            "\n",
            "event_table_training.p - Type: <class 'pandas.core.frame.DataFrame'>\n",
            "       hash(variantID)  hash(customerId)  isReturned\n",
            "1  8262848653457749222       -1460347154           0\n",
            "2 -1567841582771857859       -1457538806           1\n",
            "3  7754674097260878582       -1223268503           1\n",
            "4 -4404944052740977793         824610854           1\n",
            "5  1654187440431947983       -1831163455           1\n",
            "\n",
            "product_nodes_testing.p - Type: <class 'pandas.core.frame.DataFrame'>\n",
            "       hash(variantID)      hash(productID)    productType  hash(supplierRef)  \\\n",
            "1  7138577575525014137  4528823003512508488  productType_B        -1819069519   \n",
            "2  2375852645582189259 -1041338194131725603  productType_B         2006110614   \n",
            "3  2276086575002637682  8664970357767879302  productType_B         -289718319   \n",
            "4 -1217266852386325826  3493782392997187781  productType_B         -385773161   \n",
            "5  4459412953069534594  8456243209922523437  productType_B          162982571   \n",
            "\n",
            "  brandDesc  avgGbpPrice  avgDiscountValue  salesPerProduct  \\\n",
            "1   Brand_B        31.89             16.19                3   \n",
            "2   Brand_K        90.29             25.00                5   \n",
            "3   Brand_B        11.04             19.47               38   \n",
            "4   Brand_K        84.20             20.77               15   \n",
            "5   Brand_K         9.89             17.53              242   \n",
            "\n",
            "   returnsPerProduct  productReturnRate  ...  productType_B  productType_C  \\\n",
            "1                  1           0.333333  ...              1              0   \n",
            "2                  4           0.800000  ...              1              0   \n",
            "3                 10           0.263158  ...              1              0   \n",
            "4                 12           0.800000  ...              1              0   \n",
            "5                 78           0.322314  ...              1              0   \n",
            "\n",
            "   productType_D  productType_E  productType_F  productType_G  productType_H  \\\n",
            "1              0              0              0              0              0   \n",
            "2              0              0              0              0              0   \n",
            "3              0              0              0              0              0   \n",
            "4              0              0              0              0              0   \n",
            "5              0              0              0              0              0   \n",
            "\n",
            "   productType_I  productType_J  productType_K  \n",
            "1              0              0              0  \n",
            "2              0              0              0  \n",
            "3              0              0              0  \n",
            "4              0              0              0  \n",
            "5              0              0              0  \n",
            "\n",
            "[5 rows x 44 columns]\n",
            "\n",
            "product_nodes_training.p - Type: <class 'pandas.core.frame.DataFrame'>\n",
            "       hash(variantID)      hash(productID)    productType  hash(supplierRef)  \\\n",
            "1  4550259741504178673  5879799799090574153  productType_B          221571216   \n",
            "2  5340544183823383973 -5050515871057381912  productType_B         1012966519   \n",
            "3  7537628105862775507 -3809655638558592031  productType_B         -945781343   \n",
            "4  4823898756921319393  3975857132452218008  productType_B          823422182   \n",
            "5  -631800120190371126 -8518405539241061658  productType_B        -1601522830   \n",
            "\n",
            "  brandDesc  avgGbpPrice  avgDiscountValue  salesPerProduct  \\\n",
            "1   Brand_K        27.61             18.17               18   \n",
            "2   Brand_K        34.61             14.83               18   \n",
            "3   Brand_B        46.00             18.85               48   \n",
            "4   Brand_K        41.80             14.06               11   \n",
            "5   Brand_J        27.59             16.30              114   \n",
            "\n",
            "   returnsPerProduct  productReturnRate  ...  productType_B  productType_C  \\\n",
            "1                  7           0.388889  ...              1              0   \n",
            "2                 12           0.666667  ...              1              0   \n",
            "3                 25           0.520833  ...              1              0   \n",
            "4                  5           0.454545  ...              1              0   \n",
            "5                 86           0.754386  ...              1              0   \n",
            "\n",
            "   productType_D  productType_E  productType_F  productType_G  productType_H  \\\n",
            "1              0              0              0              0              0   \n",
            "2              0              0              0              0              0   \n",
            "3              0              0              0              0              0   \n",
            "4              0              0              0              0              0   \n",
            "5              0              0              0              0              0   \n",
            "\n",
            "   productType_I  productType_J  productType_K  \n",
            "1              0              0              0  \n",
            "2              0              0              0  \n",
            "3              0              0              0  \n",
            "4              0              0              0  \n",
            "5              0              0              0  \n",
            "\n",
            "[5 rows x 44 columns]\n"
          ]
        }
      ]
    },
    {
      "cell_type": "code",
      "source": [
        "import os\n",
        "\n",
        "# Create a folder to store the CSVs (optional)\n",
        "os.makedirs(\"csv_outputs\", exist_ok=True)\n",
        "\n",
        "# Save each DataFrame as a CSV\n",
        "for name, content in loaded_data.items():\n",
        "    if hasattr(content, \"to_csv\"):\n",
        "        csv_name = os.path.join(\"csv_outputs\", name.replace(\".p\", \".csv\"))\n",
        "        content.to_csv(csv_name, index=False)\n",
        "        print(f\"Saved: {csv_name}\")\n",
        "    else:\n",
        "        print(f\"Skipped: {name} (not a DataFrame)\")"
      ],
      "metadata": {
        "colab": {
          "base_uri": "https://localhost:8080/"
        },
        "id": "Gos-VlpmtcmN",
        "outputId": "039db695-476e-49f5-b517-b2dfc936486f"
      },
      "execution_count": 3,
      "outputs": [
        {
          "output_type": "stream",
          "name": "stdout",
          "text": [
            "Saved: csv_outputs/customer_nodes_testing.csv\n",
            "Saved: csv_outputs/customer_nodes_training.csv\n",
            "Saved: csv_outputs/event_table_testing.csv\n",
            "Saved: csv_outputs/event_table_training.csv\n",
            "Saved: csv_outputs/product_nodes_testing.csv\n",
            "Saved: csv_outputs/product_nodes_training.csv\n"
          ]
        }
      ]
    },
    {
      "cell_type": "code",
      "source": [
        "from google.colab import files\n",
        "import glob\n",
        "\n",
        "# Download all CSVs from the folder\n",
        "for file in glob.glob(\"csv_outputs/*.csv\"):\n",
        "    files.download(file)"
      ],
      "metadata": {
        "colab": {
          "base_uri": "https://localhost:8080/",
          "height": 17
        },
        "id": "99qzwKE0tw-F",
        "outputId": "c2645c44-a301-43a4-892f-fc769ab3e50f"
      },
      "execution_count": 4,
      "outputs": [
        {
          "output_type": "display_data",
          "data": {
            "text/plain": [
              "<IPython.core.display.Javascript object>"
            ],
            "application/javascript": [
              "\n",
              "    async function download(id, filename, size) {\n",
              "      if (!google.colab.kernel.accessAllowed) {\n",
              "        return;\n",
              "      }\n",
              "      const div = document.createElement('div');\n",
              "      const label = document.createElement('label');\n",
              "      label.textContent = `Downloading \"${filename}\": `;\n",
              "      div.appendChild(label);\n",
              "      const progress = document.createElement('progress');\n",
              "      progress.max = size;\n",
              "      div.appendChild(progress);\n",
              "      document.body.appendChild(div);\n",
              "\n",
              "      const buffers = [];\n",
              "      let downloaded = 0;\n",
              "\n",
              "      const channel = await google.colab.kernel.comms.open(id);\n",
              "      // Send a message to notify the kernel that we're ready.\n",
              "      channel.send({})\n",
              "\n",
              "      for await (const message of channel.messages) {\n",
              "        // Send a message to notify the kernel that we're ready.\n",
              "        channel.send({})\n",
              "        if (message.buffers) {\n",
              "          for (const buffer of message.buffers) {\n",
              "            buffers.push(buffer);\n",
              "            downloaded += buffer.byteLength;\n",
              "            progress.value = downloaded;\n",
              "          }\n",
              "        }\n",
              "      }\n",
              "      const blob = new Blob(buffers, {type: 'application/binary'});\n",
              "      const a = document.createElement('a');\n",
              "      a.href = window.URL.createObjectURL(blob);\n",
              "      a.download = filename;\n",
              "      div.appendChild(a);\n",
              "      a.click();\n",
              "      div.remove();\n",
              "    }\n",
              "  "
            ]
          },
          "metadata": {}
        },
        {
          "output_type": "display_data",
          "data": {
            "text/plain": [
              "<IPython.core.display.Javascript object>"
            ],
            "application/javascript": [
              "download(\"download_2fb03732-f9e8-477f-a4d1-9054a83ff0ca\", \"product_nodes_testing.csv\", 97207190)"
            ]
          },
          "metadata": {}
        },
        {
          "output_type": "display_data",
          "data": {
            "text/plain": [
              "<IPython.core.display.Javascript object>"
            ],
            "application/javascript": [
              "\n",
              "    async function download(id, filename, size) {\n",
              "      if (!google.colab.kernel.accessAllowed) {\n",
              "        return;\n",
              "      }\n",
              "      const div = document.createElement('div');\n",
              "      const label = document.createElement('label');\n",
              "      label.textContent = `Downloading \"${filename}\": `;\n",
              "      div.appendChild(label);\n",
              "      const progress = document.createElement('progress');\n",
              "      progress.max = size;\n",
              "      div.appendChild(progress);\n",
              "      document.body.appendChild(div);\n",
              "\n",
              "      const buffers = [];\n",
              "      let downloaded = 0;\n",
              "\n",
              "      const channel = await google.colab.kernel.comms.open(id);\n",
              "      // Send a message to notify the kernel that we're ready.\n",
              "      channel.send({})\n",
              "\n",
              "      for await (const message of channel.messages) {\n",
              "        // Send a message to notify the kernel that we're ready.\n",
              "        channel.send({})\n",
              "        if (message.buffers) {\n",
              "          for (const buffer of message.buffers) {\n",
              "            buffers.push(buffer);\n",
              "            downloaded += buffer.byteLength;\n",
              "            progress.value = downloaded;\n",
              "          }\n",
              "        }\n",
              "      }\n",
              "      const blob = new Blob(buffers, {type: 'application/binary'});\n",
              "      const a = document.createElement('a');\n",
              "      a.href = window.URL.createObjectURL(blob);\n",
              "      a.download = filename;\n",
              "      div.appendChild(a);\n",
              "      a.click();\n",
              "      div.remove();\n",
              "    }\n",
              "  "
            ]
          },
          "metadata": {}
        },
        {
          "output_type": "display_data",
          "data": {
            "text/plain": [
              "<IPython.core.display.Javascript object>"
            ],
            "application/javascript": [
              "download(\"download_13bba919-1ed3-4cbc-a087-726bfc08c442\", \"event_table_training.csv\", 45676314)"
            ]
          },
          "metadata": {}
        },
        {
          "output_type": "display_data",
          "data": {
            "text/plain": [
              "<IPython.core.display.Javascript object>"
            ],
            "application/javascript": [
              "\n",
              "    async function download(id, filename, size) {\n",
              "      if (!google.colab.kernel.accessAllowed) {\n",
              "        return;\n",
              "      }\n",
              "      const div = document.createElement('div');\n",
              "      const label = document.createElement('label');\n",
              "      label.textContent = `Downloading \"${filename}\": `;\n",
              "      div.appendChild(label);\n",
              "      const progress = document.createElement('progress');\n",
              "      progress.max = size;\n",
              "      div.appendChild(progress);\n",
              "      document.body.appendChild(div);\n",
              "\n",
              "      const buffers = [];\n",
              "      let downloaded = 0;\n",
              "\n",
              "      const channel = await google.colab.kernel.comms.open(id);\n",
              "      // Send a message to notify the kernel that we're ready.\n",
              "      channel.send({})\n",
              "\n",
              "      for await (const message of channel.messages) {\n",
              "        // Send a message to notify the kernel that we're ready.\n",
              "        channel.send({})\n",
              "        if (message.buffers) {\n",
              "          for (const buffer of message.buffers) {\n",
              "            buffers.push(buffer);\n",
              "            downloaded += buffer.byteLength;\n",
              "            progress.value = downloaded;\n",
              "          }\n",
              "        }\n",
              "      }\n",
              "      const blob = new Blob(buffers, {type: 'application/binary'});\n",
              "      const a = document.createElement('a');\n",
              "      a.href = window.URL.createObjectURL(blob);\n",
              "      a.download = filename;\n",
              "      div.appendChild(a);\n",
              "      a.click();\n",
              "      div.remove();\n",
              "    }\n",
              "  "
            ]
          },
          "metadata": {}
        },
        {
          "output_type": "display_data",
          "data": {
            "text/plain": [
              "<IPython.core.display.Javascript object>"
            ],
            "application/javascript": [
              "download(\"download_3df342d1-3dd2-4d7f-a029-996814db7b1f\", \"customer_nodes_training.csv\", 102838530)"
            ]
          },
          "metadata": {}
        },
        {
          "output_type": "display_data",
          "data": {
            "text/plain": [
              "<IPython.core.display.Javascript object>"
            ],
            "application/javascript": [
              "\n",
              "    async function download(id, filename, size) {\n",
              "      if (!google.colab.kernel.accessAllowed) {\n",
              "        return;\n",
              "      }\n",
              "      const div = document.createElement('div');\n",
              "      const label = document.createElement('label');\n",
              "      label.textContent = `Downloading \"${filename}\": `;\n",
              "      div.appendChild(label);\n",
              "      const progress = document.createElement('progress');\n",
              "      progress.max = size;\n",
              "      div.appendChild(progress);\n",
              "      document.body.appendChild(div);\n",
              "\n",
              "      const buffers = [];\n",
              "      let downloaded = 0;\n",
              "\n",
              "      const channel = await google.colab.kernel.comms.open(id);\n",
              "      // Send a message to notify the kernel that we're ready.\n",
              "      channel.send({})\n",
              "\n",
              "      for await (const message of channel.messages) {\n",
              "        // Send a message to notify the kernel that we're ready.\n",
              "        channel.send({})\n",
              "        if (message.buffers) {\n",
              "          for (const buffer of message.buffers) {\n",
              "            buffers.push(buffer);\n",
              "            downloaded += buffer.byteLength;\n",
              "            progress.value = downloaded;\n",
              "          }\n",
              "        }\n",
              "      }\n",
              "      const blob = new Blob(buffers, {type: 'application/binary'});\n",
              "      const a = document.createElement('a');\n",
              "      a.href = window.URL.createObjectURL(blob);\n",
              "      a.download = filename;\n",
              "      div.appendChild(a);\n",
              "      a.click();\n",
              "      div.remove();\n",
              "    }\n",
              "  "
            ]
          },
          "metadata": {}
        },
        {
          "output_type": "display_data",
          "data": {
            "text/plain": [
              "<IPython.core.display.Javascript object>"
            ],
            "application/javascript": [
              "download(\"download_f94fb547-1861-4dab-b2fe-1273940ab3d7\", \"customer_nodes_testing.csv\", 110567369)"
            ]
          },
          "metadata": {}
        },
        {
          "output_type": "display_data",
          "data": {
            "text/plain": [
              "<IPython.core.display.Javascript object>"
            ],
            "application/javascript": [
              "\n",
              "    async function download(id, filename, size) {\n",
              "      if (!google.colab.kernel.accessAllowed) {\n",
              "        return;\n",
              "      }\n",
              "      const div = document.createElement('div');\n",
              "      const label = document.createElement('label');\n",
              "      label.textContent = `Downloading \"${filename}\": `;\n",
              "      div.appendChild(label);\n",
              "      const progress = document.createElement('progress');\n",
              "      progress.max = size;\n",
              "      div.appendChild(progress);\n",
              "      document.body.appendChild(div);\n",
              "\n",
              "      const buffers = [];\n",
              "      let downloaded = 0;\n",
              "\n",
              "      const channel = await google.colab.kernel.comms.open(id);\n",
              "      // Send a message to notify the kernel that we're ready.\n",
              "      channel.send({})\n",
              "\n",
              "      for await (const message of channel.messages) {\n",
              "        // Send a message to notify the kernel that we're ready.\n",
              "        channel.send({})\n",
              "        if (message.buffers) {\n",
              "          for (const buffer of message.buffers) {\n",
              "            buffers.push(buffer);\n",
              "            downloaded += buffer.byteLength;\n",
              "            progress.value = downloaded;\n",
              "          }\n",
              "        }\n",
              "      }\n",
              "      const blob = new Blob(buffers, {type: 'application/binary'});\n",
              "      const a = document.createElement('a');\n",
              "      a.href = window.URL.createObjectURL(blob);\n",
              "      a.download = filename;\n",
              "      div.appendChild(a);\n",
              "      a.click();\n",
              "      div.remove();\n",
              "    }\n",
              "  "
            ]
          },
          "metadata": {}
        },
        {
          "output_type": "display_data",
          "data": {
            "text/plain": [
              "<IPython.core.display.Javascript object>"
            ],
            "application/javascript": [
              "download(\"download_b2ebdc43-a31b-4a73-a898-20c20f2aaf0c\", \"event_table_testing.csv\", 48722681)"
            ]
          },
          "metadata": {}
        },
        {
          "output_type": "display_data",
          "data": {
            "text/plain": [
              "<IPython.core.display.Javascript object>"
            ],
            "application/javascript": [
              "\n",
              "    async function download(id, filename, size) {\n",
              "      if (!google.colab.kernel.accessAllowed) {\n",
              "        return;\n",
              "      }\n",
              "      const div = document.createElement('div');\n",
              "      const label = document.createElement('label');\n",
              "      label.textContent = `Downloading \"${filename}\": `;\n",
              "      div.appendChild(label);\n",
              "      const progress = document.createElement('progress');\n",
              "      progress.max = size;\n",
              "      div.appendChild(progress);\n",
              "      document.body.appendChild(div);\n",
              "\n",
              "      const buffers = [];\n",
              "      let downloaded = 0;\n",
              "\n",
              "      const channel = await google.colab.kernel.comms.open(id);\n",
              "      // Send a message to notify the kernel that we're ready.\n",
              "      channel.send({})\n",
              "\n",
              "      for await (const message of channel.messages) {\n",
              "        // Send a message to notify the kernel that we're ready.\n",
              "        channel.send({})\n",
              "        if (message.buffers) {\n",
              "          for (const buffer of message.buffers) {\n",
              "            buffers.push(buffer);\n",
              "            downloaded += buffer.byteLength;\n",
              "            progress.value = downloaded;\n",
              "          }\n",
              "        }\n",
              "      }\n",
              "      const blob = new Blob(buffers, {type: 'application/binary'});\n",
              "      const a = document.createElement('a');\n",
              "      a.href = window.URL.createObjectURL(blob);\n",
              "      a.download = filename;\n",
              "      div.appendChild(a);\n",
              "      a.click();\n",
              "      div.remove();\n",
              "    }\n",
              "  "
            ]
          },
          "metadata": {}
        },
        {
          "output_type": "display_data",
          "data": {
            "text/plain": [
              "<IPython.core.display.Javascript object>"
            ],
            "application/javascript": [
              "download(\"download_f1a00d8c-31a1-4fa2-922f-8eb6c9b6b3bd\", \"product_nodes_training.csv\", 97195907)"
            ]
          },
          "metadata": {}
        }
      ]
    },
    {
      "cell_type": "code",
      "source": [
        "loaded_data = {}\n",
        "\n",
        "for name in file_names:\n",
        "    with open(name, \"rb\") as f:\n",
        "        loaded_data[name] = pickle.load(f)"
      ],
      "metadata": {
        "id": "wdGHFoGavf9Z"
      },
      "execution_count": 6,
      "outputs": []
    },
    {
      "cell_type": "code",
      "source": [
        "for key in loaded_data:\n",
        "    print(f\"{key}: {type(loaded_data[key])}\")"
      ],
      "metadata": {
        "colab": {
          "base_uri": "https://localhost:8080/"
        },
        "id": "HaeYWDKpwB6v",
        "outputId": "c74d99e6-468a-480d-979f-745df84d6222"
      },
      "execution_count": 7,
      "outputs": [
        {
          "output_type": "stream",
          "name": "stdout",
          "text": [
            "customer_nodes_testing.p: <class 'pandas.core.frame.DataFrame'>\n",
            "customer_nodes_training.p: <class 'pandas.core.frame.DataFrame'>\n",
            "event_table_testing.p: <class 'pandas.core.frame.DataFrame'>\n",
            "event_table_training.p: <class 'pandas.core.frame.DataFrame'>\n",
            "product_nodes_testing.p: <class 'pandas.core.frame.DataFrame'>\n",
            "product_nodes_training.p: <class 'pandas.core.frame.DataFrame'>\n"
          ]
        }
      ]
    },
    {
      "cell_type": "code",
      "source": [
        "event_table = loaded_data[\"event_table_training.p\"]\n",
        "customer_nodes = loaded_data[\"customer_nodes_training.p\"]\n",
        "product_nodes = loaded_data[\"product_nodes_training.p\"]"
      ],
      "metadata": {
        "id": "kVgUwUn7wH7c"
      },
      "execution_count": 8,
      "outputs": []
    },
    {
      "cell_type": "code",
      "source": [
        "print(\"Event Table Columns:\", event_table.columns.tolist())\n",
        "print(\"Customer Nodes Columns:\", customer_nodes.columns.tolist())\n",
        "print(\"Product Nodes Columns:\", product_nodes.columns.tolist())"
      ],
      "metadata": {
        "colab": {
          "base_uri": "https://localhost:8080/"
        },
        "id": "cQ0zvzHfwPyW",
        "outputId": "b281a5ba-e3a3-4e6e-9dfb-7d2179c27ad0"
      },
      "execution_count": 10,
      "outputs": [
        {
          "output_type": "stream",
          "name": "stdout",
          "text": [
            "Event Table Columns: ['hash(variantID)', 'hash(customerId)', 'isReturned']\n",
            "Customer Nodes Columns: ['hash(customerId)', 'yearOfBirth', 'isMale', 'shippingCountry', 'premier', 'salesPerCustomer', 'returnsPerCustomer', 'customerReturnRate', 'customerId_level_return_code_A', 'customerId_level_return_code_B', 'customerId_level_return_code_C', 'customerId_level_return_code_D', 'customerId_level_return_code_E', 'customerId_level_return_code_D', 'customerId_level_return_code_F', 'customerId_level_return_code_G', 'customerId_level_return_code_H', 'customerId_level_return_code_I', 'customerId_level_return_code_J', 'customerId_level_return_code_K', 'customerId_level_return_code_L', 'Country_A', 'Country_B', 'Country_C', 'Country_D', 'Country_E', 'Country_F', 'Country_G', 'Country_H', 'Country_I']\n",
            "Product Nodes Columns: ['hash(variantID)', 'hash(productID)', 'productType', 'hash(supplierRef)', 'brandDesc', 'avgGbpPrice', 'avgDiscountValue', 'salesPerProduct', 'returnsPerProduct', 'productReturnRate', 'variantID_level_return_code_A', 'variantID_level_return_code_B', 'variantID_level_return_code_C', 'variantID_level_return_code_D', 'variantID_level_return_code_E', 'variantID_level_return_code_D', 'variantID_level_return_code_F', 'variantID_level_return_code_G', 'variantID_level_return_code_H', 'variantID_level_return_code_I', 'variantID_level_return_code_J', 'variantID_level_return_code_K', 'variantID_level_return_code_L', 'Brand_A', 'Brand_B', 'Brand_C', 'Brand_D', 'Brand_E', 'Brand_F', 'Brand_G', 'Brand_I', 'Brand_J', 'Brand_K', 'productType_A', 'productType_B', 'productType_C', 'productType_D', 'productType_E', 'productType_F', 'productType_G', 'productType_H', 'productType_I', 'productType_J', 'productType_K']\n"
          ]
        }
      ]
    },
    {
      "cell_type": "code",
      "source": [
        "merged_df = event_table.merge(customer_nodes, on='hash(customerId)') \\\n",
        "                       .merge(product_nodes, on='hash(variantID)')"
      ],
      "metadata": {
        "id": "KpMIZL-8wq2k"
      },
      "execution_count": 11,
      "outputs": []
    },
    {
      "cell_type": "code",
      "source": [
        "merged_df.rename(columns={\n",
        "    'hash(customerId)': 'customer_id',\n",
        "    'hash(variantID)': 'variant_id'\n",
        "}, inplace=True)"
      ],
      "metadata": {
        "id": "IpWVdgqzwwiP"
      },
      "execution_count": 12,
      "outputs": []
    },
    {
      "cell_type": "code",
      "source": [
        "# Check the balance of returned vs. not returned\n",
        "print(merged_df['isReturned'].value_counts())\n",
        "\n",
        "# Quick look at correlations\n",
        "print(merged_df.corr(numeric_only=True)['isReturned'].sort_values(ascending=False))"
      ],
      "metadata": {
        "colab": {
          "base_uri": "https://localhost:8080/"
        },
        "id": "YTCHmEFdwz1R",
        "outputId": "3d6f75ad-a8bd-45ac-8512-3bd5a79a19fa"
      },
      "execution_count": 13,
      "outputs": [
        {
          "output_type": "stream",
          "name": "stdout",
          "text": [
            "1    464466\n",
            "0    383988\n",
            "Name: isReturned, dtype: int64\n",
            "isReturned                       1.000000\n",
            "customerReturnRate               0.534717\n",
            "productReturnRate                0.316291\n",
            "returnsPerCustomer               0.205395\n",
            "Country_E                        0.159774\n",
            "                                   ...   \n",
            "productType_I                   -0.069127\n",
            "Country_G                       -0.101140\n",
            "salesPerProduct                 -0.116282\n",
            "productType_K                   -0.128342\n",
            "variantID_level_return_code_K   -0.180967\n",
            "Name: isReturned, Length: 72, dtype: float64\n"
          ]
        }
      ]
    },
    {
      "cell_type": "code",
      "source": [
        "import seaborn as sns\n",
        "import matplotlib.pyplot as plt\n",
        "\n",
        "# Return rate by gender\n",
        "sns.barplot(data=merged_df, x='isMale', y='isReturned')\n",
        "plt.title('Return Rate by Gender')\n",
        "plt.show()\n",
        "\n",
        "# Return rate by shipping country\n",
        "top_countries = merged_df['shippingCountry'].value_counts().nlargest(10).index\n",
        "sns.barplot(data=merged_df[merged_df['shippingCountry'].isin(top_countries)],\n",
        "            x='shippingCountry', y='isReturned')\n",
        "plt.title('Return Rate by Country')\n",
        "plt.xticks(rotation=45)\n",
        "plt.show()\n",
        "\n",
        "# Return rate by product type\n",
        "if 'productType' in merged_df.columns:\n",
        "    top_types = merged_df['productType'].value_counts().nlargest(10).index\n",
        "    sns.barplot(data=merged_df[merged_df['productType'].isin(top_types)],\n",
        "                x='productType', y='isReturned')\n",
        "    plt.title('Return Rate by Product Type')\n",
        "    plt.xticks(rotation=45)\n",
        "    plt.show()"
      ],
      "metadata": {
        "colab": {
          "base_uri": "https://localhost:8080/",
          "height": 1000
        },
        "id": "ksl3m65UxCQp",
        "outputId": "012a0225-fb0d-4e0e-eede-9b132285ac48"
      },
      "execution_count": 15,
      "outputs": [
        {
          "output_type": "display_data",
          "data": {
            "text/plain": [
              "<Figure size 640x480 with 1 Axes>"
            ],
            "image/png": "[encoded data removed]"
          },
          "metadata": {}
        },
        {
          "output_type": "display_data",
          "data": {
            "text/plain": [
              "<Figure size 640x480 with 1 Axes>"
            ],
            "image/png": "[encoded data removed]"
          },
          "metadata": {}
        },
        {
          "output_type": "display_data",
          "data": {
            "text/plain": [
              "<Figure size 640x480 with 1 Axes>"
            ],
            "image/png": "[encoded data removed]"
          },
          "metadata": {}
        }
      ]
    },
    {
      "cell_type": "code",
      "source": [
        "import pandas as pd"
      ],
      "metadata": {
        "id": "lkFWcHHqxmR5"
      },
      "execution_count": 17,
      "outputs": []
    },
    {
      "cell_type": "code",
      "source": [
        "X = merged_df.drop(columns=['isReturned', 'hash(customerId)', 'hash(variantID)', 'hash(productID)', 'hash(supplierRef)'], errors='ignore')\n",
        "X = pd.get_dummies(X, drop_first=True)\n",
        "y = merged_df['isReturned']"
      ],
      "metadata": {
        "id": "ALoKtj5UxzSN"
      },
      "execution_count": 18,
      "outputs": []
    },
    {
      "cell_type": "code",
      "source": [
        "from sklearn.model_selection import train_test_split\n",
        "from sklearn.ensemble import RandomForestClassifier\n",
        "from sklearn.metrics import classification_report\n",
        "\n",
        "# Drop non-numeric or ID columns\n",
        "X = merged_df.drop(columns=['isReturned', 'hash(customerId)', 'hash(variantID)', 'hash(productID)', 'hash(supplierRef)'], errors='ignore')\n",
        "X = pd.get_dummies(X, drop_first=True)  # One-hot encode categorical variables\n",
        "y = merged_df['isReturned']\n",
        "\n",
        "# Train-test split\n",
        "X_train, X_test, y_train, y_test = train_test_split(X, y, test_size=0.2, random_state=42)"
      ],
      "metadata": {
        "id": "anS9h_hfx6RE"
      },
      "execution_count": 19,
      "outputs": []
    },
    {
      "cell_type": "code",
      "source": [
        "model = RandomForestClassifier(n_estimators=100, random_state=42)\n",
        "model.fit(X_train, y_train)\n",
        "\n",
        "# Evaluate\n",
        "y_pred = model.predict(X_test)\n",
        "print(classification_report(y_test, y_pred))"
      ],
      "metadata": {
        "colab": {
          "base_uri": "https://localhost:8080/"
        },
        "id": "A4b6-hdeyB9H",
        "outputId": "128bec09-d60f-4c17-97a4-ab10f81f333d"
      },
      "execution_count": 21,
      "outputs": [
        {
          "output_type": "stream",
          "name": "stdout",
          "text": [
            "              precision    recall  f1-score   support\n",
            "\n",
            "           0       0.74      0.70      0.72     76720\n",
            "           1       0.76      0.79      0.78     92971\n",
            "\n",
            "    accuracy                           0.75    169691\n",
            "   macro avg       0.75      0.75      0.75    169691\n",
            "weighted avg       0.75      0.75      0.75    169691\n",
            "\n"
          ]
        }
      ]
    },
    {
      "cell_type": "code",
      "source": [
        "importances = pd.Series(model.feature_importances_, index=X.columns)\n",
        "top_features = importances.sort_values(ascending=False).head(15)\n",
        "\n",
        "# Plot\n",
        "top_features.plot(kind='barh')\n",
        "plt.title('Top Features Influencing Product Returns')\n",
        "plt.gca().invert_yaxis()\n",
        "plt.show()"
      ],
      "metadata": {
        "colab": {
          "base_uri": "https://localhost:8080/",
          "height": 452
        },
        "id": "KCt0efdoyhaE",
        "outputId": "a379b17c-3607-4f35-cb07-d6bca01843a4"
      },
      "execution_count": 22,
      "outputs": [
        {
          "output_type": "display_data",
          "data": {
            "text/plain": [
              "<Figure size 640x480 with 1 Axes>"
            ],
            "image/png": "[encoded data removed]"
          },
          "metadata": {}
        }
      ]
    },
    {
      "cell_type": "code",
      "source": [
        "from sklearn.ensemble import RandomForestClassifier\n",
        "from sklearn.metrics import classification_report\n",
        "\n",
        "# Use a slightly larger sample for better learning, but still faster than full data\n",
        "X_sample = X_train.sample(frac=0.5, random_state=42)\n",
        "y_sample = y_train.loc[X_sample.index]\n",
        "\n",
        "# Optimized model configuration\n",
        "model = RandomForestClassifier(\n",
        "    n_estimators=40,       # Fewer trees for speed\n",
        "    max_depth=12,          # Slightly deeper trees for better learning\n",
        "    max_features='sqrt',   # Efficient feature selection at each split\n",
        "    min_samples_leaf=5,    # Prevent overfitting on small splits\n",
        "    n_jobs=-1,             # Use all CPU cores\n",
        "    random_state=42\n",
        ")\n",
        "\n",
        "# Train the model\n",
        "model.fit(X_sample, y_sample)\n",
        "\n",
        "# Predict and evaluate\n",
        "y_pred = model.predict(X_test)\n",
        "print(classification_report(y_test, y_pred))"
      ],
      "metadata": {
        "colab": {
          "base_uri": "https://localhost:8080/"
        },
        "id": "KoeGDJM53Afr",
        "outputId": "03639479-c4d6-4bb2-ed54-8ddabba408af"
      },
      "execution_count": 23,
      "outputs": [
        {
          "output_type": "stream",
          "name": "stdout",
          "text": [
            "              precision    recall  f1-score   support\n",
            "\n",
            "           0       0.74      0.69      0.71     76720\n",
            "           1       0.76      0.80      0.78     92971\n",
            "\n",
            "    accuracy                           0.75    169691\n",
            "   macro avg       0.75      0.74      0.74    169691\n",
            "weighted avg       0.75      0.75      0.75    169691\n",
            "\n"
          ]
        }
      ]
    },
    {
      "cell_type": "code",
      "source": [
        "import pandas as pd\n",
        "import matplotlib.pyplot as plt\n",
        "\n",
        "# Get feature importances from the trained model\n",
        "importances = pd.Series(model.feature_importances_, index=X_sample.columns)\n",
        "\n",
        "# Select top 15 most important features\n",
        "top_features = importances.sort_values(ascending=False).head(15)\n",
        "\n",
        "# Plot\n",
        "plt.figure(figsize=(10, 6))\n",
        "top_features.plot(kind='barh', color='skyblue')\n",
        "plt.title('Top 15 Features Influencing Product Returns')\n",
        "plt.xlabel('Feature Importance Score')\n",
        "plt.gca().invert_yaxis()\n",
        "plt.tight_layout()\n",
        "plt.show()"
      ],
      "metadata": {
        "colab": {
          "base_uri": "https://localhost:8080/",
          "height": 607
        },
        "id": "ixyXYy143XE5",
        "outputId": "dad50dfa-a927-42ae-c829-5357dbf3628c"
      },
      "execution_count": 24,
      "outputs": [
        {
          "output_type": "display_data",
          "data": {
            "text/plain": [
              "<Figure size 1000x600 with 1 Axes>"
            ],
            "image/png": "[encoded data removed]"
          },
          "metadata": {}
        }
      ]
    }
  ]
}
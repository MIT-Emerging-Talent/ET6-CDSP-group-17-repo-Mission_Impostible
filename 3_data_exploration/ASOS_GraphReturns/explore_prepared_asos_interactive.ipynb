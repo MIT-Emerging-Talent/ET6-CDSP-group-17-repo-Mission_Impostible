{
 "cells": [
  {
   "cell_type": "markdown",
   "metadata": {},
   "source": [
    "# Interactive Exploration of ASOS Product Returns\n",
    "\n",
    "**Objective:** This notebook provides an interactive exploratory data analysis (EDA) of the prepared ASOS dataset. We will investigate the key factors influencing product returns through interactive visualizations."
   ]
  },
  {
   "cell_type": "markdown",
   "metadata": {},
   "source": [
    "## 1. Setup and Data Loading\n",
    "\n",
    "First, we import the necessary libraries for data manipulation (`pandas`) and interactive plotting (`plotly`). We then load the cleaned dataset prepared in the previous stage."
   ]
  },
  {
   "cell_type": "code",
   "execution_count": null,
   "metadata": {},
   "outputs": [],
   "source": [
    "# 1. Setup and Data Loading\n",
    "import pandas as pd\n",
    "import plotly.express as px\n",
    "import plotly.graph_objects as go\n",
    "from plotly.offline import iplot\n",
    "\n",
    "# Load the prepared data\n",
    "prepared_data_path = 'C:/Users/ADMIN/ET6-CDSP-group-17-repo/2_data_preparation/ASOS_GraphReturns/prepared_asos_data.csv'\n",
    "try:\n",
    "    df = pd.read_csv(prepared_data_path)\n",
    "    print(f\"Successfully loaded prepared data from {prepared_data_path}\")\n",
    "except FileNotFoundError:\n",
    "    print(f\"Error: {prepared_data_path} not found. Please ensure the data preparation step was completed.\")"
   ]
  },
  {
   "cell_type": "markdown",
   "metadata": {},
   "source": [
    "## 2. Initial Data Inspection\n",
    "\n",
    "Here we take a first look at the dataset's structure, including its shape, columns, data types, and missing values."
   ]
  },
  {
   "cell_type": "code",
   "execution_count": null,
   "metadata": {},
   "outputs": [],
   "source": [
    "print(\"--- Initial Data Overview ---\")\n",
    "print(f\"Shape: {df.shape}\")\n",
    "print(f\"Columns: {df.columns.tolist()}\")\n",
    "\n",
    "print(\"\n",
    "--- Data Info ---\")\n",
    "df.info()\n",
    "\n",
    "print(\"\n",
    "--- Missing Values ---\")\n",
    "print(df.isnull().sum()[df.isnull().sum() > 0])\n",
    "\n",
    "print(\"\n",
    "--- First 5 Rows ---\")\n",
    "df.head()"
   ]
  },
  {
   "cell_type": "markdown",
   "metadata": {},
   "source": [
    "## 3. Overall Product Return Distribution\n",
    "\n",
    "This section provides a high-level overview of the product return landscape within the ASOS dataset. We visualize the overall proportion of returned versus non-returned items using a pie chart. This immediate visual representation helps us understand the baseline return rate and the general magnitude of returns within the dataset. A significant imbalance here might suggest a need for deeper investigation into the factors driving returns or non-returns."
   ]
  },
  {
   "cell_type": "code",
   "execution_count": null,
   "metadata": {},
   "outputs": [],
   "source": [
    "# 3. Overall Return Share\n",
    "return_counts = df['isReturned'].value_counts()\n",
    "return_percentage = df['isReturned'].value_counts(normalize=True) * 100\n",
    "\n",
    "print(f\"Value Counts for isReturned:\\n{return_counts}\")\n",
    "print(f\"\\nPercentage of Returns:\\n{return_percentage}\")\n",
    "\n",
    "fig = px.pie(names=['Not Returned (0)', 'Returned (1)'], \n",
    "             values=return_counts.values,\n",
    "             title='Overall Product Return Distribution',\n",
    "             hole=0.3)\n",
    "fig.update_traces(textinfo='percent+label', pull=[0, 0.1])\n",
    "fig.show()\n",
    "fig.write_image(\"C:/Users/ADMIN/ET6-CDSP-group-17-repo/3_data_exploration/ASOS_GraphReturns/images/return_distribution.png\")"
   ]
  },
  {
   "cell_type": "markdown",
   "metadata": {},
   "source": [
    "## 4. Return Rates by Categorical Features\n",
    "\n",
    "Now, let's dive deeper and analyze how return rates vary across different categorical features like gender, country, and product type."
   ]
  },
  {
   "cell_type": "markdown",
   "metadata": {},
   "source": [
    "### 4.1 Return Rate by Gender\n",
    "\n",
    "This section explores the influence of gender on product return rates. By analyzing the return rates for male and female customers, we can identify if there are significant differences in return behavior between these groups. This insight can be valuable for targeted marketing strategies or product development."
   ]
  },
  {
   "cell_type": "code",
   "execution_count": null,
   "metadata": {},
   "outputs": [],
   "source": [
    "# 4.1 Return Rate by Gender\n",
    "if 'isMale' in df.columns:\n",
    "    gender_return_rate = df.groupby('isMale')['isReturned'].mean().reset_index()\n",
    "    gender_return_rate['isMale'] = gender_return_rate['isMale'].map({0: 'Female', 1: 'Male'})\n",
    "    \n",
    "    fig = px.bar(gender_return_rate, x='isMale', y='isReturned',\n",
    "                 title='Return Rate by Gender',\n",
    "                 labels={'isMale': 'Gender', 'isReturned': 'Average Return Rate'},\n",
    "                 text=gender_return_rate['isReturned'].apply(lambda x: f'{x:.2%}'))\n",
    "    fig.update_traces(texttemplate='%{text:.2%}', textposition='outside')\n",
    "    fig.update_layout(xaxis_tickangle=-45)\n",
    "    fig.show()\n",
    "    fig.write_image(\"C:/Users/ADMIN/ET6-CDSP-group-17-repo/3_data_exploration/ASOS_GraphReturns/images/gender_return_rate.png\")\n",
    "else:\n",
    "    print(f\"'isMale' column not found for gender analysis.\")"
   ]
  },
  {
   "cell_type": "markdown",
   "metadata": {},
   "source": [
    "### 4.2 Return Rate by Shipping Country (Top 10)\n",
    "\n",
    "Geographical location can play a significant role in return behavior. This section focuses on the top 10 shipping countries and their respective return rates. Understanding these variations can help in optimizing logistics, understanding regional preferences, or identifying potential issues related to shipping or product fit in specific countries."
   ]
  },
  {
   "cell_type": "code",
   "execution_count": null,
   "metadata": {},
   "outputs": [],
   "source": [
    "# 4.2 Return Rate by Shipping Country (Top 10)\n",
    "country_cols = [col for col in df.columns if col.startswith('Country_') and col != 'Country_Other']\n",
    "if country_cols:\n",
    "    country_return_rates = {col.replace('Country_', ''): df[df[col] == 1]['isReturned'].mean() for col in country_cols}\n",
    "    country_return_rates_series = pd.Series(country_return_rates).sort_values(ascending=False).head(10)\n",
    "    \n",
    "    fig = px.bar(x=country_return_rates_series.index, y=country_return_rates_series.values,\n",
    "                 title='Return Rate by Top 10 Shipping Countries',\n",
    "                 labels={'x': 'Country', 'y': 'Average Return Rate'},\n",
    "                 text=country_return_rates_series.values)\n",
    "    fig.update_traces(texttemplate='%{text:.2%}', textposition='outside')\n",
    "    fig.update_layout(xaxis_tickangle=-45)\n",
    "    fig.show()\n",
    "    fig.write_image(\"C:/Users/ADMIN/ET6-CDSP-group-17-repo/3_data_exploration/ASOS_GraphReturns/images/country_return_rate.png\")\n",
    "else:\n",
    "    print(\"No 'Country_X' columns found for country analysis.\")"
   ]
  },
  {
   "cell_type": "markdown",
   "metadata": {},
   "source": [
    "### 4.3 Return Rate by Product Type (Top 10)\n",
    "\n",
    "Different product types may have varying return rates due to factors like fit, material, or customer expectations. This section analyzes the return rates for the top 10 product types, providing insights into which categories are more prone to returns. This information is crucial for inventory management, product design, and understanding customer satisfaction across different product lines."
   ]
  },
  {
   "cell_type": "code",
   "execution_count": null,
   "metadata": {},
   "outputs": [],
   "source": [
    "# 4.3 Return Rate by Product Type (Top 10)\n",
    "product_type_cols = [col for col in df.columns if col.startswith('productType_') and col != 'productType_Other']\n",
    "if product_type_cols:\n",
    "    product_type_return_rates = {col.replace('productType_', ''): df[df[col] == 1]['isReturned'].mean() for col in product_type_cols}\n",
    "    product_type_return_rates_series = pd.Series(product_type_return_rates).sort_values(ascending=False).head(10)\n",
    "    \n",
    "    fig = px.bar(x=product_type_return_rates_series.index, y=product_type_return_rates_series.values,\n",
    "                 title='Return Rate by Top 10 Product Types',\n",
    "                 labels={'x': 'Product Type', 'y': 'Average Return Rate'},\n",
    "                 text=product_type_return_rates_series.values)\n",
    "    fig.update_traces(texttemplate='%{text:.2%}', textposition='outside')\n",
    "    fig.update_layout(xaxis_tickangle=-45)\n",
    "    fig.show()\n",
    "    fig.write_image(\"C:/Users/ADMIN/ET6-CDSP-group-17-repo/3_data_exploration/ASOS_GraphReturns/images/product_type_return_rate.png\")\n",
    "else:\n",
    "    print(\"No 'productType_X' columns found for product type analysis.\")"
   ]
  },
  {
   "cell_type": "markdown",
   "metadata": {},
   "source": [
    "## 5. Numeric Feature Distributions\n",
    "\n",
    "This section delves into the distributions of key numerical features, specifically focusing on how they differ between returned and non-returned items. By visualizing these distributions (e.g., using histograms or box plots), we can identify potential thresholds or ranges within numerical features that are more associated with returns. For instance, are higher-priced items returned more often than lower-priced ones, or vice-versa?"
   ]
  },
  {
   "cell_type": "code",
   "execution_count": null,
   "metadata": {},
   "outputs": [],
   "source": [
    "# 5. Distribution of Price for Returned vs. Non-Returned Items\n",
    "if 'price' in df.columns:\n",
    "    fig = px.histogram(df, x='price', color='isReturned',\n",
    "                      marginal='box', \n",
    "                      barmode='overlay',\n",
    "                      title='Distribution of Price for Returned vs. Non-Returned Items',\n",
    "                      labels={'price': 'Price', 'isReturned': 'Is Returned'})\n",
    "    fig.show()\n",
    "    fig.write_image(\"C:/Users/ADMIN/ET6-CDSP-group-17-repo/3_data_exploration/ASOS_GraphReturns/images/price_distribution.png\")\n",
    "else:\n",
    "    print(\"'price' column not found.\")"
   ]
  },
  {
   "cell_type": "markdown",
   "metadata": {},
   "source": [
    "## 6. Correlation Analysis\n",
    "\n",
    "This final section provides a comprehensive view of the linear relationships between all numerical features in the dataset, including the `isReturned` target variable. A correlation heatmap visually represents these relationships, allowing us to quickly identify strong positive or negative correlations. This can highlight features that are highly predictive of returns or reveal multicollinearity among independent variables, which is important for subsequent modeling efforts."
   ]
  },
  {
   "cell_type": "code",
   "execution_count": null,
   "metadata": {},
   "outputs": [],
   "source": [
    "# 6. Correlation Analysis\n",
    "numerical_cols = df.select_dtypes(include=['number']).columns.tolist()\n",
    "correlation_matrix = df[numerical_cols].corr()\n",
    "\n",
    "fig = go.Figure(data=go.Heatmap(\n",
    "                    z=correlation_matrix.values,\n",
    "                    x=correlation_matrix.columns,\n",
    "                    y=correlation_matrix.columns,\n",
    "                    colorscale='Viridis',\n",
    "                    colorbar=dict(title='Correlation')))\n",
    "\n",
    "fig.update_layout(\n",
    "    title='Correlation Matrix of Numerical Features',\n",
    "    xaxis_tickangle=-45\n",
    ")\n",
    "fig.show()\n",
    "fig.write_image(\"C:/Users/ADMIN/ET6-CDSP-group-17-repo/3_data_exploration/ASOS_GraphReturns/images/correlation_matrix.png\")"
   ]
  },
  {
   "cell_type": "markdown",
   "metadata": {},
   "source": [
    "## 7. Summary of Findings\n",
    "\n",
    "This section would be filled in after running the notebook and analyzing the plots. Key takeaways might include:\n",
    "\n",
    "- The overall return rate is X%.\n",
    "- [Gender/Country/Product Type] has the most significant impact on returns.\n",
    "- Higher/lower priced items are more likely to be returned.\n",
    "- Feature A and Feature B are highly correlated."
   ]
  },
  {
   "cell_type": "code",
   "execution_count": null,
   "metadata": {},
   "outputs": [],
   "source": []
  }
 ],
 "metadata": {
  "kernelspec": {
   "display_name": "Python 3 (ipykernel)",
   "language": "python",
   "name": "python3"
  },
  "language_info": {
   "codemirror_mode": {
    "name": "ipython",
    "version": 3
   },
   "file_extension": ".py",
   "mimetype": "text/x-python",
   "name": "python",
   "nbconvert_exporter": "python",
   "pygments_lexer": "ipython3",
   "version": "3.10.6"
  }
 },
 "nbformat": 4,
 "nbformat_minor": 4
}
